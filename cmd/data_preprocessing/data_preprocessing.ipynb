{
 "cells": [
  {
   "cell_type": "code",
   "execution_count": 2,
   "metadata": {},
   "outputs": [],
   "source": [
    "import csv\n",
    "import pandas as pd\n",
    "import mysql.connector as connector"
   ]
  },
  {
   "cell_type": "code",
   "execution_count": 3,
   "metadata": {},
   "outputs": [],
   "source": [
    "dbconn = connector.connect(\n",
    "    host=\"localhost\",\n",
    "    user=\"root\",\n",
    "    password=\"root1234\",\n",
    "    database=\"superstore_database\"\n",
    ")\n",
    "cursor = dbconn.cursor()\n",
    "df = pd.read_csv(\"../../dataset.csv\", encoding='windows-1252')"
   ]
  },
  {
   "cell_type": "code",
   "execution_count": 28,
   "metadata": {},
   "outputs": [
    {
     "name": "stdout",
     "output_type": "stream",
     "text": [
      "[['United States']]\n",
      "1 records inserted\n"
     ]
    }
   ],
   "source": [
    "# with open('../../dataset.csv') as file:\n",
    "#     reader = csv.reader(file)\n",
    "#     for item in reader:\n",
    "#         print(item)\n",
    "\n",
    "\n",
    "# Inserting countries\n",
    "\n",
    "sql = \"INSERT INTO countries (name) VALUES (%s)\"\n",
    "# cursor = dbconn.cursor()\n",
    "\n",
    "\n",
    "\n",
    "\n",
    "countries = []\n",
    "for country in df['Country'].unique():\n",
    "    countries.append([country])\n",
    "print(countries)\n",
    "try:\n",
    "    cursor.executemany(sql, countries)\n",
    "    print(cursor.rowcount, \"records inserted\")\n",
    "except:\n",
    "    print(\"Something went wrong\")\n",
    "\n",
    "\n",
    "dbconn.commit()\n"
   ]
  },
  {
   "cell_type": "code",
   "execution_count": 9,
   "metadata": {},
   "outputs": [
    {
     "name": "stdout",
     "output_type": "stream",
     "text": [
      "3 records inserted\n"
     ]
    }
   ],
   "source": [
    "# Categories\n",
    "sql = \"INSERT INTO categories (name) Values (%s)\"\n",
    "categories = []\n",
    "\n",
    "for category in df['Category'].unique():\n",
    "    categories.append([category])\n",
    "\n",
    "try:\n",
    "    cursor.executemany(sql, categories)\n",
    "    print(cursor.rowcount, \"records inserted\")\n",
    "except:\n",
    "    print(\"Something went wrong\")\n",
    "dbconn.commit()\n",
    "\n"
   ]
  },
  {
   "cell_type": "code",
   "execution_count": 12,
   "metadata": {},
   "outputs": [
    {
     "name": "stdout",
     "output_type": "stream",
     "text": [
      "3 records inserted\n"
     ]
    }
   ],
   "source": [
    "# Segments\n",
    "sql = \"INSERT INTO segments (name) Values (%s)\"\n",
    "segments = []\n",
    "\n",
    "for segment in df['Segment'].unique():\n",
    "    segments.append([segment])\n",
    "\n",
    "try:\n",
    "    cursor.executemany(sql, segments)\n",
    "    print(cursor.rowcount, \"records inserted\")\n",
    "except:\n",
    "    print(\"Something went wrong\")\n",
    "dbconn.commit()\n"
   ]
  },
  {
   "cell_type": "code",
   "execution_count": 14,
   "metadata": {},
   "outputs": [
    {
     "name": "stdout",
     "output_type": "stream",
     "text": [
      "4 records inserted\n"
     ]
    }
   ],
   "source": [
    "# Regions\n",
    "sql = \"INSERT INTO regions (name) Values (%s)\"\n",
    "regions = []\n",
    "\n",
    "for region in df['Region'].unique():\n",
    "    regions.append([region])\n",
    "\n",
    "try:\n",
    "    cursor.executemany(sql, regions)\n",
    "    print(cursor.rowcount, \"records inserted\")\n",
    "except:\n",
    "    print(\"Something went wrong\")\n",
    "dbconn.commit()\n"
   ]
  },
  {
   "cell_type": "code",
   "execution_count": 16,
   "metadata": {},
   "outputs": [
    {
     "name": "stdout",
     "output_type": "stream",
     "text": [
      "4 records inserted\n"
     ]
    }
   ],
   "source": [
    "# Ship Modes\n",
    "sql = \"INSERT INTO ship_modes (name) Values (%s)\"\n",
    "ship_modes = []\n",
    "\n",
    "for mode in df['Ship Mode'].unique():\n",
    "    ship_modes.append([mode])\n",
    "\n",
    "try:\n",
    "    cursor.executemany(sql, ship_modes)\n",
    "    print(cursor.rowcount, \"records inserted\")\n",
    "except:\n",
    "    print(\"Something went wrong\")\n",
    "dbconn.commit()"
   ]
  },
  {
   "cell_type": "code",
   "execution_count": 22,
   "metadata": {},
   "outputs": [],
   "source": [
    "countries = {}\n",
    "\n",
    "\n",
    "select = \"SELECT * FROM countries\"\n",
    "try:\n",
    "    cursor.execute(select)\n",
    "    data = cursor.fetchall()\n",
    "    for item in data:\n",
    "        countries[item[1]] = item[0]\n",
    "except:\n",
    "    print(\"Something went wrong\")\n",
    "\n",
    "\n",
    "# for key in countries:\n",
    "#     print(countries[key])"
   ]
  },
  {
   "cell_type": "code",
   "execution_count": 81,
   "metadata": {},
   "outputs": [
    {
     "name": "stdout",
     "output_type": "stream",
     "text": [
      "49\n"
     ]
    }
   ],
   "source": [
    "states=[]\n",
    "\n",
    "datacountry = df[['State','Country']].groupby(['State']).sample()\n",
    "\n",
    "country_state_map={}\n",
    "\n",
    "for key, value in enumerate(datacountry['State']):\n",
    "    # print(key)\n",
    "    country_state_map[value] = datacountry['Country'].to_list()[key]\n",
    "    # print(datacountry['State'])\n",
    "print(len(country_state_map))"
   ]
  },
  {
   "cell_type": "code",
   "execution_count": 80,
   "metadata": {},
   "outputs": [
    {
     "name": "stdout",
     "output_type": "stream",
     "text": [
      "49 records inserted\n"
     ]
    }
   ],
   "source": [
    "sql = \"INSERT INTO states(name, country_id) VALUES (%s,%s)\"\n",
    "states=[]\n",
    "\n",
    "datacountry = df[['State','Country']].groupby(['State']).sample()\n",
    "\n",
    "country_state_map={}\n",
    "\n",
    "for key, value in enumerate(datacountry['State']):\n",
    "    # print(key)\n",
    "    country_state_map[value] = datacountry['Country'].to_list()[key]\n",
    "    # print(datacountry['State'])\n",
    "\n",
    "\n",
    "\n",
    "\n",
    "\n",
    "\n",
    "\n",
    "countries = {}\n",
    "\n",
    "\n",
    "select = \"SELECT * FROM countries\"\n",
    "try:\n",
    "    cursor.execute(select)\n",
    "    data = cursor.fetchall()\n",
    "    for item in data:\n",
    "        countries[item[1]] = item[0]\n",
    "except:\n",
    "    print(\"Something went wrong\")\n",
    "\n",
    "\n",
    "\n",
    "entry = []\n",
    "for item in country_state_map:\n",
    "    country_state_map[item] = countries[country_state_map[item]]\n",
    "    entry.append([item, country_state_map[item]])\n",
    "\n",
    "try:\n",
    "    cursor.executemany(sql, entry)\n",
    "    print(cursor.rowcount, \"records inserted\")\n",
    "except:\n",
    "    print(\"Something went wrong\")\n",
    "dbconn.commit()\n"
   ]
  },
  {
   "cell_type": "code",
   "execution_count": 95,
   "metadata": {},
   "outputs": [],
   "source": [
    "def get_data(selector):\n",
    "    result = {}\n",
    "    select = \"SELECT * FROM {}\".format(selector)\n",
    "    try:\n",
    "        cursor.execute(select)\n",
    "        data = cursor.fetchall()\n",
    "        for item in data:\n",
    "            result[item[1]] = item[0]\n",
    "    except:\n",
    "        print(\"Something went wrong\")\n",
    "        return {}\n",
    "    return result\n"
   ]
  },
  {
   "cell_type": "code",
   "execution_count": 113,
   "metadata": {},
   "outputs": [
    {
     "name": "stdout",
     "output_type": "stream",
     "text": [
      "{}\n",
      "                                                   Sub-Category  \\\n",
      "Product Name                                                      \n",
      "\"While you Were Out\" Message Book, One Form per...        Paper   \n",
      "#10 Gummed Flap White Envelopes, 100/Box              Envelopes   \n",
      "#10 Self-Seal White Envelopes                         Envelopes   \n",
      "#10 White Business Envelopes,4 1/8 x 9 1/2            Envelopes   \n",
      "#10- 4 1/8\" x 9 1/2\" Recycled Envelopes               Envelopes   \n",
      "...                                                         ...   \n",
      "iKross Bluetooth Portable Keyboard + Cell Phone...       Phones   \n",
      "iOttie HLCRIO102 Car Mount                               Phones   \n",
      "iOttie XL Car Mount                                      Phones   \n",
      "invisibleSHIELD by ZAGG Smudge-Free Screen Prot...       Phones   \n",
      "netTALK DUO VoIP Telephone Service                       Phones   \n",
      "\n",
      "                                                           Category  \n",
      "Product Name                                                         \n",
      "\"While you Were Out\" Message Book, One Form per...  Office Supplies  \n",
      "#10 Gummed Flap White Envelopes, 100/Box            Office Supplies  \n",
      "#10 Self-Seal White Envelopes                       Office Supplies  \n",
      "#10 White Business Envelopes,4 1/8 x 9 1/2          Office Supplies  \n",
      "#10- 4 1/8\" x 9 1/2\" Recycled Envelopes             Office Supplies  \n",
      "...                                                             ...  \n",
      "iKross Bluetooth Portable Keyboard + Cell Phone...       Technology  \n",
      "iOttie HLCRIO102 Car Mount                               Technology  \n",
      "iOttie XL Car Mount                                      Technology  \n",
      "invisibleSHIELD by ZAGG Smudge-Free Screen Prot...       Technology  \n",
      "netTALK DUO VoIP Telephone Service                       Technology  \n",
      "\n",
      "[1850 rows x 2 columns]\n"
     ]
    }
   ],
   "source": [
    "res = get_data(\"sub_categories\")\n",
    "print(res)\n",
    "\n",
    "data_sub_category = df[['Product Name','Sub-Category','Category']].groupby(['Product Name']).first()\n",
    "print(data_sub_category)\n",
    "\n",
    "\n",
    "\n",
    "\n"
   ]
  }
 ],
 "metadata": {
  "kernelspec": {
   "display_name": "Python 3",
   "language": "python",
   "name": "python3"
  },
  "language_info": {
   "codemirror_mode": {
    "name": "ipython",
    "version": 3
   },
   "file_extension": ".py",
   "mimetype": "text/x-python",
   "name": "python",
   "nbconvert_exporter": "python",
   "pygments_lexer": "ipython3",
   "version": "3.8.0"
  }
 },
 "nbformat": 4,
 "nbformat_minor": 2
}
